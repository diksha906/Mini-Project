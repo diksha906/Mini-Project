{
  "nbformat": 4,
  "nbformat_minor": 0,
  "metadata": {
    "colab": {
      "name": "Image Classification.ipynb",
      "provenance": [],
      "collapsed_sections": [],
      "authorship_tag": "ABX9TyMohdcaXzGupFJUoytfRL8j",
      "include_colab_link": true
    },
    "kernelspec": {
      "name": "python3",
      "display_name": "Python 3"
    }
  },
  "cells": [
    {
      "cell_type": "markdown",
      "metadata": {
        "id": "view-in-github",
        "colab_type": "text"
      },
      "source": [
        "<a href=\"https://colab.research.google.com/github/diksha906/Mini-Project/blob/main/Image_Classification.ipynb\" target=\"_parent\"><img src=\"https://colab.research.google.com/assets/colab-badge.svg\" alt=\"Open In Colab\"/></a>"
      ]
    },
    {
      "cell_type": "code",
      "metadata": {
        "colab": {
          "base_uri": "https://localhost:8080/"
        },
        "id": "kgAp_gTKIytE",
        "outputId": "7c224d59-62f8-4efe-e4f8-8079fbc633bf"
      },
      "source": [
        " # STEP 1:Using bing image downloader to gather data\n",
        " \n",
        " !pip install bing-image-downloader"
      ],
      "execution_count": 6,
      "outputs": [
        {
          "output_type": "stream",
          "text": [
            "Requirement already satisfied: bing-image-downloader in /usr/local/lib/python3.6/dist-packages (1.0.4)\n"
          ],
          "name": "stdout"
        }
      ]
    },
    {
      "cell_type": "code",
      "metadata": {
        "id": "tOJ3YHdEOXY1",
        "colab": {
          "base_uri": "https://localhost:8080/"
        },
        "outputId": "64e1ea81-8dba-429b-fdad-a16c59f9aac0"
      },
      "source": [
        "!mkdir data"
      ],
      "execution_count": 7,
      "outputs": [
        {
          "output_type": "stream",
          "text": [
            "mkdir: cannot create directory ‘data’: File exists\n"
          ],
          "name": "stdout"
        }
      ]
    },
    {
      "cell_type": "code",
      "metadata": {
        "colab": {
          "base_uri": "https://localhost:8080/"
        },
        "id": "s4KzEPVKOk9u",
        "outputId": "824db4d6-6b4d-435f-c853-3fb9fb158540"
      },
      "source": [
        "from bing_image_downloader import downloader\n",
        "downloader.download(\"pretty sunflower\", limit=30, output_dir='data', adult_filter_off=True)"
      ],
      "execution_count": 8,
      "outputs": [
        {
          "output_type": "stream",
          "text": [
            "\n",
            "\n",
            "[!!]Indexing page: 1\n",
            "\n",
            "[%] Indexed 20 Images on Page 1.\n",
            "\n",
            "===============================================\n",
            "\n",
            "[%] Downloading Image #1 from https://i.pinimg.com/736x/2e/b0/b1/2eb0b15844684b2f18876b211b59ee02.jpg\n",
            "[%] File Downloaded !\n",
            "\n",
            "[%] Downloading Image #2 from http://cooldigitalphotography.com/wp-content/uploads/2013/11/Sunflower9.jpg\n",
            "[%] File Downloaded !\n",
            "\n",
            "[%] Downloading Image #3 from https://wallpapersite.com/images/wallpapers/beautiful-woman-1440x900-blonde-pretty-girl-5k-2276.jpg\n",
            "[!] Issue getting: https://wallpapersite.com/images/wallpapers/beautiful-woman-1440x900-blonde-pretty-girl-5k-2276.jpg\n",
            "[!] Error:: HTTP Error 404: Not Found\n",
            "[%] Downloading Image #3 from https://wallpapersite.com/images/wallpapers/angel-2560x1440-blue-sky-hd-4k-2884.jpg\n",
            "[!] Issue getting: https://wallpapersite.com/images/wallpapers/angel-2560x1440-blue-sky-hd-4k-2884.jpg\n",
            "[!] Error:: HTTP Error 404: Not Found\n",
            "[%] Downloading Image #3 from https://1.bp.blogspot.com/-vuesf00axv8/WQhLlND7jdI/AAAAAAAAAfs/DDzzdZoob5offfQOex8KljHPS8isfcuWgCLcB/s1600/6.jpeg\n",
            "[%] File Downloaded !\n",
            "\n",
            "[%] Downloading Image #4 from https://i.pinimg.com/736x/2e/f1/04/2ef104bb8bf2717c87a7423caf1a2088.jpg\n",
            "[%] File Downloaded !\n",
            "\n",
            "[%] Downloading Image #5 from https://wallpapersite.com/images/wallpapers/colorful-2048x1536-ink-smoke-vibrant-4k-17426.jpg\n",
            "[!] Issue getting: https://wallpapersite.com/images/wallpapers/colorful-2048x1536-ink-smoke-vibrant-4k-17426.jpg\n",
            "[!] Error:: HTTP Error 404: Not Found\n",
            "[%] Downloading Image #5 from https://wallpapersite.com/images/wallpapers/betty-cooper-1536x2048-lili-reinhart-riverdale-7684.jpg\n",
            "[!] Issue getting: https://wallpapersite.com/images/wallpapers/betty-cooper-1536x2048-lili-reinhart-riverdale-7684.jpg\n",
            "[!] Error:: HTTP Error 404: Not Found\n",
            "[%] Downloading Image #5 from http://cooldigitalphotography.com/wp-content/uploads/2013/11/Sunflower10.jpg\n",
            "[%] File Downloaded !\n",
            "\n",
            "[%] Downloading Image #6 from http://www.prettydesigns.com/wp-content/uploads/2014/11/Flower-Tattoo1.jpg\n",
            "[%] File Downloaded !\n",
            "\n",
            "[%] Downloading Image #7 from https://wallpapersite.com/images/wallpapers/beautiful-woman-320x480-girl-teen-butterflies-fairy-hd-9539.jpg\n",
            "[!] Issue getting: https://wallpapersite.com/images/wallpapers/beautiful-woman-320x480-girl-teen-butterflies-fairy-hd-9539.jpg\n",
            "[!] Error:: HTTP Error 404: Not Found\n",
            "[%] Downloading Image #7 from https://wallpapersite.com/images/wallpapers/elena-temnikova-3000x2000-russian-singer-5572.jpg\n",
            "[!] Issue getting: https://wallpapersite.com/images/wallpapers/elena-temnikova-3000x2000-russian-singer-5572.jpg\n",
            "[!] Error:: HTTP Error 404: Not Found\n",
            "[%] Downloading Image #7 from http://www.hdwallpapers.in/download/pure_red_sunflowers-1920x1200.jpg\n",
            "[%] File Downloaded !\n",
            "\n",
            "[%] Downloading Image #8 from https://ohbestdayever.com/wp-content/uploads/2017/12/chic-rustic-sunflower-wedding-centerpiece-ideas-with-lanterns.jpg\n",
            "[%] File Downloaded !\n",
            "\n",
            "[%] Downloading Image #9 from https://www.elegantweddinginvites.com/wedding-blog/wp-content/uploads/2015/12/inexpensive-wedding-centerpiece-ideas-with-sunflowers.jpg\n",
            "[%] File Downloaded !\n",
            "\n",
            "[%] Downloading Image #10 from https://wallpapersite.com/images/wallpapers/stars-2560x1440-4k-6347.jpg\n",
            "[!] Issue getting: https://wallpapersite.com/images/wallpapers/stars-2560x1440-4k-6347.jpg\n",
            "[!] Error:: HTTP Error 404: Not Found\n",
            "[%] Downloading Image #10 from http://www.diyhowto.org/wp-content/uploads/DIYHowto-DIY-Canvas-Wall-Art-Ideas-Tutorials-Picture-Instructions-04.jpg\n",
            "[%] File Downloaded !\n",
            "\n",
            "[%] Downloading Image #11 from https://i.pinimg.com/736x/0d/b9/06/0db906107ce0e53854b44fd1734091fa.jpg\n",
            "[%] File Downloaded !\n",
            "\n",
            "[%] Downloading Image #12 from https://i.pinimg.com/736x/d1/00/83/d10083387a29373654548c7bf5579fc0--sunflower-centerpieces-sunflower-arrangements.jpg\n",
            "[%] File Downloaded !\n",
            "\n",
            "[%] Downloading Image #13 from http://www.ecstasycoffee.com/wp-content/uploads/2016/09/Sugar-Skull-Pitbull-Tattoo-Idea.jpg\n",
            "[%] File Downloaded !\n",
            "\n",
            "\n",
            "\n",
            "[!!]Indexing page: 2\n",
            "\n",
            "[%] Indexed 20 Images on Page 2.\n",
            "\n",
            "===============================================\n",
            "\n",
            "[%] Downloading Image #14 from https://i.pinimg.com/736x/2e/b0/b1/2eb0b15844684b2f18876b211b59ee02.jpg\n",
            "[%] File Downloaded !\n",
            "\n",
            "[%] Downloading Image #15 from http://cooldigitalphotography.com/wp-content/uploads/2013/11/Sunflower9.jpg\n",
            "[%] File Downloaded !\n",
            "\n",
            "[%] Downloading Image #16 from https://wallpapersite.com/images/wallpapers/beautiful-woman-1440x900-blonde-pretty-girl-5k-2276.jpg\n",
            "[!] Issue getting: https://wallpapersite.com/images/wallpapers/beautiful-woman-1440x900-blonde-pretty-girl-5k-2276.jpg\n",
            "[!] Error:: HTTP Error 404: Not Found\n",
            "[%] Downloading Image #16 from https://wallpapersite.com/images/wallpapers/angel-2560x1440-blue-sky-hd-4k-2884.jpg\n",
            "[!] Issue getting: https://wallpapersite.com/images/wallpapers/angel-2560x1440-blue-sky-hd-4k-2884.jpg\n",
            "[!] Error:: HTTP Error 404: Not Found\n",
            "[%] Downloading Image #16 from https://1.bp.blogspot.com/-vuesf00axv8/WQhLlND7jdI/AAAAAAAAAfs/DDzzdZoob5offfQOex8KljHPS8isfcuWgCLcB/s1600/6.jpeg\n",
            "[%] File Downloaded !\n",
            "\n",
            "[%] Downloading Image #17 from https://i.pinimg.com/736x/2e/f1/04/2ef104bb8bf2717c87a7423caf1a2088.jpg\n",
            "[%] File Downloaded !\n",
            "\n",
            "[%] Downloading Image #18 from https://wallpapersite.com/images/wallpapers/colorful-2048x1536-ink-smoke-vibrant-4k-17426.jpg\n",
            "[!] Issue getting: https://wallpapersite.com/images/wallpapers/colorful-2048x1536-ink-smoke-vibrant-4k-17426.jpg\n",
            "[!] Error:: HTTP Error 404: Not Found\n",
            "[%] Downloading Image #18 from https://wallpapersite.com/images/wallpapers/betty-cooper-1536x2048-lili-reinhart-riverdale-7684.jpg\n",
            "[!] Issue getting: https://wallpapersite.com/images/wallpapers/betty-cooper-1536x2048-lili-reinhart-riverdale-7684.jpg\n",
            "[!] Error:: HTTP Error 404: Not Found\n",
            "[%] Downloading Image #18 from http://cooldigitalphotography.com/wp-content/uploads/2013/11/Sunflower10.jpg\n",
            "[%] File Downloaded !\n",
            "\n",
            "[%] Downloading Image #19 from http://www.prettydesigns.com/wp-content/uploads/2014/11/Flower-Tattoo1.jpg\n",
            "[%] File Downloaded !\n",
            "\n",
            "[%] Downloading Image #20 from https://wallpapersite.com/images/wallpapers/beautiful-woman-320x480-girl-teen-butterflies-fairy-hd-9539.jpg\n",
            "[!] Issue getting: https://wallpapersite.com/images/wallpapers/beautiful-woman-320x480-girl-teen-butterflies-fairy-hd-9539.jpg\n",
            "[!] Error:: HTTP Error 404: Not Found\n",
            "[%] Downloading Image #20 from https://wallpapersite.com/images/wallpapers/elena-temnikova-3000x2000-russian-singer-5572.jpg\n",
            "[!] Issue getting: https://wallpapersite.com/images/wallpapers/elena-temnikova-3000x2000-russian-singer-5572.jpg\n",
            "[!] Error:: HTTP Error 404: Not Found\n",
            "[%] Downloading Image #20 from http://www.hdwallpapers.in/download/pure_red_sunflowers-1920x1200.jpg\n",
            "[%] File Downloaded !\n",
            "\n",
            "[%] Downloading Image #21 from https://ohbestdayever.com/wp-content/uploads/2017/12/chic-rustic-sunflower-wedding-centerpiece-ideas-with-lanterns.jpg\n",
            "[%] File Downloaded !\n",
            "\n",
            "[%] Downloading Image #22 from https://www.elegantweddinginvites.com/wedding-blog/wp-content/uploads/2015/12/inexpensive-wedding-centerpiece-ideas-with-sunflowers.jpg\n",
            "[%] File Downloaded !\n",
            "\n",
            "[%] Downloading Image #23 from https://wallpapersite.com/images/wallpapers/stars-2560x1440-4k-6347.jpg\n",
            "[!] Issue getting: https://wallpapersite.com/images/wallpapers/stars-2560x1440-4k-6347.jpg\n",
            "[!] Error:: HTTP Error 404: Not Found\n",
            "[%] Downloading Image #23 from http://www.diyhowto.org/wp-content/uploads/DIYHowto-DIY-Canvas-Wall-Art-Ideas-Tutorials-Picture-Instructions-04.jpg\n",
            "[%] File Downloaded !\n",
            "\n",
            "[%] Downloading Image #24 from https://i.pinimg.com/736x/0d/b9/06/0db906107ce0e53854b44fd1734091fa.jpg\n",
            "[%] File Downloaded !\n",
            "\n",
            "[%] Downloading Image #25 from https://i.pinimg.com/736x/d1/00/83/d10083387a29373654548c7bf5579fc0--sunflower-centerpieces-sunflower-arrangements.jpg\n",
            "[%] File Downloaded !\n",
            "\n",
            "[%] Downloading Image #26 from http://www.ecstasycoffee.com/wp-content/uploads/2016/09/Sugar-Skull-Pitbull-Tattoo-Idea.jpg\n",
            "[%] File Downloaded !\n",
            "\n",
            "\n",
            "\n",
            "[!!]Indexing page: 3\n",
            "\n",
            "[%] Indexed 19 Images on Page 3.\n",
            "\n",
            "===============================================\n",
            "\n",
            "[%] Downloading Image #27 from https://1.bp.blogspot.com/-vuesf00axv8/WQhLlND7jdI/AAAAAAAAAfs/DDzzdZoob5offfQOex8KljHPS8isfcuWgCLcB/s1600/6.jpeg\n",
            "[%] File Downloaded !\n",
            "\n",
            "[%] Downloading Image #28 from http://cooldigitalphotography.com/wp-content/uploads/2013/11/Sunflower9.jpg\n",
            "[%] File Downloaded !\n",
            "\n",
            "[%] Downloading Image #29 from https://wallpapersite.com/images/wallpapers/beautiful-woman-1440x900-blonde-pretty-girl-5k-2276.jpg\n",
            "[!] Issue getting: https://wallpapersite.com/images/wallpapers/beautiful-woman-1440x900-blonde-pretty-girl-5k-2276.jpg\n",
            "[!] Error:: HTTP Error 404: Not Found\n",
            "[%] Downloading Image #29 from https://wallpapersite.com/images/wallpapers/angel-2560x1440-blue-sky-hd-4k-2884.jpg\n",
            "[!] Issue getting: https://wallpapersite.com/images/wallpapers/angel-2560x1440-blue-sky-hd-4k-2884.jpg\n",
            "[!] Error:: HTTP Error 404: Not Found\n",
            "[%] Downloading Image #29 from http://cooldigitalphotography.com/wp-content/uploads/2013/11/Sunflower10.jpg\n",
            "[%] File Downloaded !\n",
            "\n",
            "[%] Downloading Image #30 from https://i.pinimg.com/736x/2e/f1/04/2ef104bb8bf2717c87a7423caf1a2088.jpg\n",
            "[%] File Downloaded !\n",
            "\n",
            "\n",
            "\n",
            "[%] Done. Downloaded 30 images.\n",
            "\n",
            "===============================================\n",
            "\n"
          ],
          "name": "stdout"
        }
      ]
    },
    {
      "cell_type": "code",
      "metadata": {
        "colab": {
          "base_uri": "https://localhost:8080/"
        },
        "id": "v7eduG7iPr0v",
        "outputId": "14cb85a4-9081-4ec5-f9d5-2aef709a0aaa"
      },
      "source": [
        "downloader.download(\"rugby ball leather\", limit=30, output_dir='data', adult_filter_off=True)"
      ],
      "execution_count": 9,
      "outputs": [
        {
          "output_type": "stream",
          "text": [
            "\n",
            "\n",
            "[!!]Indexing page: 1\n",
            "\n",
            "[%] Indexed 20 Images on Page 1.\n",
            "\n",
            "===============================================\n",
            "\n",
            "[%] Downloading Image #1 from http://asdiansi.com/old-rugbyball.jpg\n",
            "[%] File Downloaded !\n",
            "\n",
            "[%] Downloading Image #2 from https://cdn.shopify.com/s/files/1/0068/0227/6407/products/2600_20RAAA13_2082001205_20Ball_20Leather_20Vint_20Dk_20Tan_20Sz5_1024x1024.jpg?v=1557417173\n",
            "[%] File Downloaded !\n",
            "\n",
            "[%] Downloading Image #3 from https://d273fid4rql9oz.cloudfront.net/public/uploads/catalog/product/large/4/1/4111_1__392291911.jpg\n",
            "[%] File Downloaded !\n",
            "\n",
            "[%] Downloading Image #4 from https://openclipart.org/image/800px/svg_to_png/281547/RugbyBall2.png\n",
            "[%] File Downloaded !\n",
            "\n",
            "[%] Downloading Image #5 from http://www.cricketwiz.com.au/image/cache/data/autograph ball plain-500x500.jpg\n",
            "[!] Issue getting: http://www.cricketwiz.com.au/image/cache/data/autograph ball plain-500x500.jpg\n",
            "[!] Error:: URL can't contain control characters. '/image/cache/data/autograph ball plain-500x500.jpg' (found at least ' ')\n",
            "[%] Downloading Image #5 from https://www.john-woodbridge.com/1020-tm_thickbox_default/1950s-football.jpg\n",
            "[%] File Downloaded !\n",
            "\n",
            "[%] Downloading Image #6 from https://d2gg9evh47fn9z.cloudfront.net/800px_COLOURBOX8777907.jpg\n",
            "[%] File Downloaded !\n",
            "\n",
            "[%] Downloading Image #7 from https://cdn.shopify.com/s/files/1/0226/2169/products/Teak_Basketball_02_1024x1024.jpg?v=1568214929\n",
            "[%] File Downloaded !\n",
            "\n",
            "[%] Downloading Image #8 from https://thumbs.dreamstime.com/z/cartoon-kids-playing-rugby-vector-clip-art-illustration-simple-gradients-each-separate-layer-111213772.jpg\n",
            "[%] File Downloaded !\n",
            "\n",
            "[%] Downloading Image #9 from https://emojipedia-us.s3.dualstack.us-west-1.amazonaws.com/socialmedia/apple/155/rugby-football_1f3c9.png\n",
            "[%] File Downloaded !\n",
            "\n",
            "[%] Downloading Image #10 from https://static.vecteezy.com/system/resources/previews/000/094/728/original/rugby-pitch-vector.jpg\n",
            "[%] File Downloaded !\n",
            "\n",
            "[%] Downloading Image #11 from https://thumbs.dreamstime.com/z/cartoon-sport-balls-25573001.jpg\n",
            "[%] File Downloaded !\n",
            "\n",
            "[%] Downloading Image #12 from https://www.sportsballshop.co.uk/acatalog/bgl2.jpg\n",
            "[%] File Downloaded !\n",
            "\n",
            "[%] Downloading Image #13 from https://www.prodirectsoccer.com/productimages/V3_1_Main/82317.jpg\n",
            "[%] File Downloaded !\n",
            "\n",
            "[%] Downloading Image #14 from http://proimpactsports.com/wp-content/uploads/2018/06/cricket-bat-1-1.jpg\n",
            "[Error]Invalid image, not saving http://proimpactsports.com/wp-content/uploads/2018/06/cricket-bat-1-1.jpg\n",
            "\n",
            "[!] Issue getting: http://proimpactsports.com/wp-content/uploads/2018/06/cricket-bat-1-1.jpg\n",
            "[!] Error:: No active exception to reraise\n",
            "[%] Downloading Image #14 from http://www.etonfives.com/images/joomgallery/details/eton_fives_photos_49/efa_directors/fives_court.jpg\n",
            "[%] File Downloaded !\n",
            "\n",
            "[%] Downloading Image #15 from http://www.prodirectsoccer.com/us/productimages/V3_1_Main/82328.jpg\n",
            "[%] File Downloaded !\n",
            "\n",
            "[%] Downloading Image #16 from https://d2gg9evh47fn9z.cloudfront.net/800px_COLOURBOX9278151.jpg\n",
            "[%] File Downloaded !\n",
            "\n",
            "[%] Downloading Image #17 from http://i3.photobucket.com/albums/y81/virginking/SAMSUNG GENIO/SDC10978copy.jpg\n",
            "[!] Issue getting: http://i3.photobucket.com/albums/y81/virginking/SAMSUNG GENIO/SDC10978copy.jpg\n",
            "[!] Error:: URL can't contain control characters. '/albums/y81/virginking/SAMSUNG GENIO/SDC10978copy.jpg' (found at least ' ')\n",
            "[%] Downloading Image #17 from http://i3.photobucket.com/albums/y81/virginking/SAMSUNG GENIO/SDC10972copy.jpg\n",
            "[!] Issue getting: http://i3.photobucket.com/albums/y81/virginking/SAMSUNG GENIO/SDC10972copy.jpg\n",
            "[!] Error:: URL can't contain control characters. '/albums/y81/virginking/SAMSUNG GENIO/SDC10972copy.jpg' (found at least ' ')\n",
            "\n",
            "\n",
            "[!!]Indexing page: 2\n",
            "\n",
            "[%] Indexed 20 Images on Page 2.\n",
            "\n",
            "===============================================\n",
            "\n",
            "[%] Downloading Image #17 from http://asdiansi.com/old-rugbyball.jpg\n",
            "[%] File Downloaded !\n",
            "\n",
            "[%] Downloading Image #18 from https://cdn.shopify.com/s/files/1/0068/0227/6407/products/2600_20RAAA13_2082001205_20Ball_20Leather_20Vint_20Dk_20Tan_20Sz5_1024x1024.jpg?v=1557417173\n",
            "[%] File Downloaded !\n",
            "\n",
            "[%] Downloading Image #19 from https://d273fid4rql9oz.cloudfront.net/public/uploads/catalog/product/large/4/1/4111_1__392291911.jpg\n",
            "[%] File Downloaded !\n",
            "\n",
            "[%] Downloading Image #20 from https://openclipart.org/image/800px/svg_to_png/281547/RugbyBall2.png\n",
            "[%] File Downloaded !\n",
            "\n",
            "[%] Downloading Image #21 from http://www.cricketwiz.com.au/image/cache/data/autograph ball plain-500x500.jpg\n",
            "[!] Issue getting: http://www.cricketwiz.com.au/image/cache/data/autograph ball plain-500x500.jpg\n",
            "[!] Error:: URL can't contain control characters. '/image/cache/data/autograph ball plain-500x500.jpg' (found at least ' ')\n",
            "[%] Downloading Image #21 from https://www.john-woodbridge.com/1020-tm_thickbox_default/1950s-football.jpg\n",
            "[%] File Downloaded !\n",
            "\n",
            "[%] Downloading Image #22 from https://d2gg9evh47fn9z.cloudfront.net/800px_COLOURBOX8777907.jpg\n",
            "[%] File Downloaded !\n",
            "\n",
            "[%] Downloading Image #23 from https://cdn.shopify.com/s/files/1/0226/2169/products/Teak_Basketball_02_1024x1024.jpg?v=1568214929\n",
            "[%] File Downloaded !\n",
            "\n",
            "[%] Downloading Image #24 from https://thumbs.dreamstime.com/z/cartoon-kids-playing-rugby-vector-clip-art-illustration-simple-gradients-each-separate-layer-111213772.jpg\n",
            "[%] File Downloaded !\n",
            "\n",
            "[%] Downloading Image #25 from https://emojipedia-us.s3.dualstack.us-west-1.amazonaws.com/socialmedia/apple/155/rugby-football_1f3c9.png\n",
            "[%] File Downloaded !\n",
            "\n",
            "[%] Downloading Image #26 from https://static.vecteezy.com/system/resources/previews/000/094/728/original/rugby-pitch-vector.jpg\n",
            "[%] File Downloaded !\n",
            "\n",
            "[%] Downloading Image #27 from https://thumbs.dreamstime.com/z/cartoon-sport-balls-25573001.jpg\n",
            "[%] File Downloaded !\n",
            "\n",
            "[%] Downloading Image #28 from https://www.sportsballshop.co.uk/acatalog/bgl2.jpg\n",
            "[%] File Downloaded !\n",
            "\n",
            "[%] Downloading Image #29 from https://www.prodirectsoccer.com/productimages/V3_1_Main/82317.jpg\n",
            "[%] File Downloaded !\n",
            "\n",
            "[%] Downloading Image #30 from http://proimpactsports.com/wp-content/uploads/2018/06/cricket-bat-1-1.jpg\n",
            "[Error]Invalid image, not saving http://proimpactsports.com/wp-content/uploads/2018/06/cricket-bat-1-1.jpg\n",
            "\n",
            "[!] Issue getting: http://proimpactsports.com/wp-content/uploads/2018/06/cricket-bat-1-1.jpg\n",
            "[!] Error:: No active exception to reraise\n",
            "[%] Downloading Image #30 from http://www.etonfives.com/images/joomgallery/details/eton_fives_photos_49/efa_directors/fives_court.jpg\n",
            "[%] File Downloaded !\n",
            "\n",
            "\n",
            "\n",
            "[%] Done. Downloaded 30 images.\n",
            "\n",
            "===============================================\n",
            "\n"
          ],
          "name": "stdout"
        }
      ]
    },
    {
      "cell_type": "code",
      "metadata": {
        "colab": {
          "base_uri": "https://localhost:8080/"
        },
        "id": "sAJl3ApyQVQq",
        "outputId": "da3df4a3-16e8-4126-c21e-d53b9a78b467"
      },
      "source": [
        "downloader.download(\"ice cream cone\", limit=30, output_dir='data', adult_filter_off=True)"
      ],
      "execution_count": 10,
      "outputs": [
        {
          "output_type": "stream",
          "text": [
            "\n",
            "\n",
            "[!!]Indexing page: 1\n",
            "\n",
            "[%] Indexed 18 Images on Page 1.\n",
            "\n",
            "===============================================\n",
            "\n",
            "[%] Downloading Image #1 from https://www.joyofkosher.com/.image/t_share/MTMxNzYwMjcxOTk4ODgzMDkw/ice-cream-cone-cupcakes.jpg\n",
            "[%] File Downloaded !\n",
            "\n",
            "[%] Downloading Image #2 from https://img1.etsystatic.com/000/0/5125437/il_570xN.17650243.jpg\n",
            "[Error]Invalid image, not saving https://img1.etsystatic.com/000/0/5125437/il_570xN.17650243.jpg\n",
            "\n",
            "[!] Issue getting: https://img1.etsystatic.com/000/0/5125437/il_570xN.17650243.jpg\n",
            "[!] Error:: No active exception to reraise\n",
            "[%] Downloading Image #2 from https://gloomth.files.wordpress.com/2019/09/kawaii-clown-makeup.jpg\n",
            "[%] File Downloaded !\n",
            "\n",
            "[%] Downloading Image #3 from http://www2.pictures.zimbio.com/gi/Food+Network+Cooking+Channel+New+York+City+EFcGQFVPRdXx.jpg\n",
            "[%] File Downloaded !\n",
            "\n",
            "[%] Downloading Image #4 from https://www.thelisttv.com/wp-content/uploads/2018/09/national-ice-cream-cone-day.jpg\n",
            "[%] File Downloaded !\n",
            "\n",
            "[%] Downloading Image #5 from http://www.trbimg.com/img-58f6491d/turbine/ct-haagen-dazs-free-cones-may-9-20170418\n",
            "[%] File Downloaded !\n",
            "\n",
            "[%] Downloading Image #6 from https://echomon.co.uk/wp-content/uploads/2013/03/Hello-Kitty-Cakes-Images.jpg\n",
            "[%] File Downloaded !\n",
            "\n",
            "[%] Downloading Image #7 from https://thumbs.dreamstime.com/z/upstairs-inside-building-1734843.jpg\n",
            "[%] File Downloaded !\n",
            "\n",
            "[%] Downloading Image #8 from https://c8.alamy.com/comp/EH73TT/a-big-ice-cream-cone-banner-on-display-outside-a-gelateria-rome-italy-EH73TT.jpg\n",
            "[%] File Downloaded !\n",
            "\n",
            "[%] Downloading Image #9 from https://s3-us-west-1.amazonaws.com/britco-downloads/iPhone-FlowerCone.jpg\n",
            "[%] File Downloaded !\n",
            "\n",
            "[%] Downloading Image #10 from http://i.weddingomania.com/40-unique-and-non-traditional-wedding-bouquets-28-500x747.jpg\n",
            "[%] File Downloaded !\n",
            "\n",
            "[%] Downloading Image #11 from https://www.roadsideamerica.com/attract/images/mo/MOAFFicecream_laura.jpg\n",
            "[%] File Downloaded !\n",
            "\n",
            "[%] Downloading Image #12 from https://reflector.uindy.edu/wp-content/uploads/2018/11/Earth-Cream-Cone.png\n",
            "[%] File Downloaded !\n",
            "\n",
            "[%] Downloading Image #13 from https://cdn.wonderfuldiy.com/wp-content/uploads/2014/10/Mushroom-Cupcakes-and-Fairy-Garden-Stand-2.jpg\n",
            "[%] File Downloaded !\n",
            "\n",
            "[%] Downloading Image #14 from http://c1.staticflickr.com/1/170/448920776_1314e3f66e.jpg\n",
            "[%] File Downloaded !\n",
            "\n",
            "[%] Downloading Image #15 from https://www.myhappybirthdaywishes.com/wp-content/uploads/2016/01/ice-cream-images-of-birthday-cakes.jpg\n",
            "[%] File Downloaded !\n",
            "\n",
            "[%] Downloading Image #16 from https://d28mt5n9lkji5m.cloudfront.net/i/W4DviZ0U8k.jpg\n",
            "[%] File Downloaded !\n",
            "\n",
            "[%] Downloading Image #17 from http://designgrapher.com/wp-content/uploads/2014/05/Funny-Dad-Daughter-Photographs-6.jpg\n",
            "[%] File Downloaded !\n",
            "\n",
            "\n",
            "\n",
            "[!!]Indexing page: 2\n",
            "\n",
            "[%] Indexed 18 Images on Page 2.\n",
            "\n",
            "===============================================\n",
            "\n",
            "[%] Downloading Image #18 from https://www.joyofkosher.com/.image/t_share/MTMxNzYwMjcxOTk4ODgzMDkw/ice-cream-cone-cupcakes.jpg\n",
            "[%] File Downloaded !\n",
            "\n",
            "[%] Downloading Image #19 from https://img1.etsystatic.com/000/0/5125437/il_570xN.17650243.jpg\n",
            "[Error]Invalid image, not saving https://img1.etsystatic.com/000/0/5125437/il_570xN.17650243.jpg\n",
            "\n",
            "[!] Issue getting: https://img1.etsystatic.com/000/0/5125437/il_570xN.17650243.jpg\n",
            "[!] Error:: No active exception to reraise\n",
            "[%] Downloading Image #19 from https://gloomth.files.wordpress.com/2019/09/kawaii-clown-makeup.jpg\n",
            "[%] File Downloaded !\n",
            "\n",
            "[%] Downloading Image #20 from http://www2.pictures.zimbio.com/gi/Food+Network+Cooking+Channel+New+York+City+EFcGQFVPRdXx.jpg\n",
            "[%] File Downloaded !\n",
            "\n",
            "[%] Downloading Image #21 from https://www.thelisttv.com/wp-content/uploads/2018/09/national-ice-cream-cone-day.jpg\n",
            "[%] File Downloaded !\n",
            "\n",
            "[%] Downloading Image #22 from http://www.trbimg.com/img-58f6491d/turbine/ct-haagen-dazs-free-cones-may-9-20170418\n",
            "[%] File Downloaded !\n",
            "\n",
            "[%] Downloading Image #23 from https://echomon.co.uk/wp-content/uploads/2013/03/Hello-Kitty-Cakes-Images.jpg\n",
            "[%] File Downloaded !\n",
            "\n",
            "[%] Downloading Image #24 from https://thumbs.dreamstime.com/z/upstairs-inside-building-1734843.jpg\n",
            "[%] File Downloaded !\n",
            "\n",
            "[%] Downloading Image #25 from https://c8.alamy.com/comp/EH73TT/a-big-ice-cream-cone-banner-on-display-outside-a-gelateria-rome-italy-EH73TT.jpg\n",
            "[%] File Downloaded !\n",
            "\n",
            "[%] Downloading Image #26 from https://s3-us-west-1.amazonaws.com/britco-downloads/iPhone-FlowerCone.jpg\n",
            "[%] File Downloaded !\n",
            "\n",
            "[%] Downloading Image #27 from http://i.weddingomania.com/40-unique-and-non-traditional-wedding-bouquets-28-500x747.jpg\n",
            "[%] File Downloaded !\n",
            "\n",
            "[%] Downloading Image #28 from https://www.roadsideamerica.com/attract/images/mo/MOAFFicecream_laura.jpg\n",
            "[%] File Downloaded !\n",
            "\n",
            "[%] Downloading Image #29 from https://reflector.uindy.edu/wp-content/uploads/2018/11/Earth-Cream-Cone.png\n",
            "[%] File Downloaded !\n",
            "\n",
            "[%] Downloading Image #30 from https://cdn.wonderfuldiy.com/wp-content/uploads/2014/10/Mushroom-Cupcakes-and-Fairy-Garden-Stand-2.jpg\n",
            "[%] File Downloaded !\n",
            "\n",
            "\n",
            "\n",
            "[%] Done. Downloaded 30 images.\n",
            "\n",
            "===============================================\n",
            "\n"
          ],
          "name": "stdout"
        }
      ]
    },
    {
      "cell_type": "code",
      "metadata": {
        "id": "dy9erDOBQrWg"
      },
      "source": [
        "# STEP 2 : Preprocessing data\n",
        "\n",
        "import os\n",
        "import matplotlib.pyplot as plt\n",
        "import numpy as np\n",
        "from skimage.io import imread\n",
        "from skimage.transform import resize\n",
        "\n",
        "output = []\n",
        "data =[]\n",
        "flatten_input = []\n",
        "\n",
        "datadir = '/content/data'\n",
        "categories = ['pretty sunflower', 'rugby ball leather', 'ice cream cone']\n",
        "for i in categories:\n",
        "  class_num = categories.index(i)\n",
        "  variable = os.path.join(datadir, i)    #Path is made to include all the images\n",
        "  for j in os.listdir(variable):\n",
        "    j_array = imread(os.path.join(variable, j))\n",
        "    j_resize = resize(j_array, (150, 150, 3))\n",
        "    flatten_input.append(j_resize.flatten())\n",
        "    data.append(j_resize)\n",
        "    output.append(class_num)\n",
        "\n",
        "flatten_input = np.array(flatten_input)\n",
        "output = np.array(output)\n",
        "data = np.array(data)"
      ],
      "execution_count": 33,
      "outputs": []
    },
    {
      "cell_type": "code",
      "metadata": {
        "colab": {
          "base_uri": "https://localhost:8080/"
        },
        "id": "p_Oiaq8PGUyg",
        "outputId": "b928b7c3-a802-4604-e034-efac1c7f9e8c"
      },
      "source": [
        "#Checking the correctness of the above code\n",
        "flatten_input[0]"
      ],
      "execution_count": 12,
      "outputs": [
        {
          "output_type": "execute_result",
          "data": {
            "text/plain": [
              "array([0.64169935, 0.69267974, 0.72797386, ..., 0.0125098 , 0.05682353,\n",
              "       0.02819608])"
            ]
          },
          "metadata": {
            "tags": []
          },
          "execution_count": 12
        }
      ]
    },
    {
      "cell_type": "code",
      "metadata": {
        "id": "tlOrEAUWGhtC"
      },
      "source": [
        "#Spliting data into training and testing\n",
        "\n",
        "from sklearn.model_selection import train_test_split\n",
        "x_train, x_test, y_train, y_test = train_test_split(flatten_input, output, test_size=0.3, random_state=100)"
      ],
      "execution_count": 13,
      "outputs": []
    },
    {
      "cell_type": "code",
      "metadata": {
        "colab": {
          "base_uri": "https://localhost:8080/"
        },
        "id": "-0u4kpnqJCfK",
        "outputId": "d8d4cc65-8fc9-4ecd-c5a6-7c3073e4e773"
      },
      "source": [
        "# STEP 3 : Apply any classification Algorithm with best parameters using GridSearch CV \n",
        "\n",
        "from sklearn.model_selection import GridSearchCV\n",
        "from sklearn import svm\n",
        "grid_parameter = [\n",
        "                  {'C':[1, 10, 100, 1000], 'kernel':['linear']},\n",
        "                  {'C':[1, 10, 100, 1000], 'gamma':[0.001, 0.0001], 'kernel':['rbf']},                  \n",
        "]\n",
        "\n",
        "svc = svm.SVC(probability=True)\n",
        "clf = GridSearchCV(svc, grid_parameter)\n",
        "clf.fit(x_train, y_train)"
      ],
      "execution_count": 14,
      "outputs": [
        {
          "output_type": "execute_result",
          "data": {
            "text/plain": [
              "GridSearchCV(cv=None, error_score=nan,\n",
              "             estimator=SVC(C=1.0, break_ties=False, cache_size=200,\n",
              "                           class_weight=None, coef0=0.0,\n",
              "                           decision_function_shape='ovr', degree=3,\n",
              "                           gamma='scale', kernel='rbf', max_iter=-1,\n",
              "                           probability=True, random_state=None, shrinking=True,\n",
              "                           tol=0.001, verbose=False),\n",
              "             iid='deprecated', n_jobs=None,\n",
              "             param_grid=[{'C': [1, 10, 100, 1000], 'kernel': ['linear']},\n",
              "                         {'C': [1, 10, 100, 1000], 'gamma': [0.001, 0.0001],\n",
              "                          'kernel': ['rbf']}],\n",
              "             pre_dispatch='2*n_jobs', refit=True, return_train_score=False,\n",
              "             scoring=None, verbose=0)"
            ]
          },
          "metadata": {
            "tags": []
          },
          "execution_count": 14
        }
      ]
    },
    {
      "cell_type": "code",
      "metadata": {
        "colab": {
          "base_uri": "https://localhost:8080/"
        },
        "id": "6DyViAoDOWpl",
        "outputId": "9a855a3e-a1b1-4eef-c9cd-71f0e2934a64"
      },
      "source": [
        "#Checking accuracy\n",
        "\n",
        "predicting_y = clf.predict(x_test)\n",
        "predicting_y\n"
      ],
      "execution_count": 15,
      "outputs": [
        {
          "output_type": "execute_result",
          "data": {
            "text/plain": [
              "array([1, 2, 0, 0, 1, 1, 1, 1, 2, 2, 0, 1, 0, 2, 0, 2, 1, 2, 0, 1, 0, 0,\n",
              "       2, 0, 1, 0, 0])"
            ]
          },
          "metadata": {
            "tags": []
          },
          "execution_count": 15
        }
      ]
    },
    {
      "cell_type": "code",
      "metadata": {
        "colab": {
          "base_uri": "https://localhost:8080/"
        },
        "id": "MzCuiUmEP46A",
        "outputId": "766694c6-1b89-4986-92c5-99e7614ab1a3"
      },
      "source": [
        "y_test"
      ],
      "execution_count": 16,
      "outputs": [
        {
          "output_type": "execute_result",
          "data": {
            "text/plain": [
              "array([1, 2, 0, 0, 1, 1, 1, 1, 0, 2, 0, 1, 0, 2, 0, 2, 1, 2, 2, 2, 0, 0,\n",
              "       0, 0, 1, 0, 0])"
            ]
          },
          "metadata": {
            "tags": []
          },
          "execution_count": 16
        }
      ]
    },
    {
      "cell_type": "code",
      "metadata": {
        "id": "aUbcEPejQUWU"
      },
      "source": [
        "#STEP 4 : Evaluate the model using Confusion Matrix and classification report\n",
        "\n",
        "from sklearn.metrics import accuracy_score, confusion_matrix"
      ],
      "execution_count": 35,
      "outputs": []
    },
    {
      "cell_type": "code",
      "metadata": {
        "colab": {
          "base_uri": "https://localhost:8080/"
        },
        "id": "IYtZMvGRQ3p-",
        "outputId": "a56a8f78-e580-4dbb-ae9b-6391f972fada"
      },
      "source": [
        "accuracy_score(predicting_y, y_test)"
      ],
      "execution_count": 36,
      "outputs": [
        {
          "output_type": "execute_result",
          "data": {
            "text/plain": [
              "0.8518518518518519"
            ]
          },
          "metadata": {
            "tags": []
          },
          "execution_count": 36
        }
      ]
    },
    {
      "cell_type": "code",
      "metadata": {
        "colab": {
          "base_uri": "https://localhost:8080/"
        },
        "id": "tP1jFWcFS_rM",
        "outputId": "f83e7efa-56ff-4d18-8452-db1b475943c6"
      },
      "source": [
        "confusion_matrix(predicting_y, y_test)"
      ],
      "execution_count": 19,
      "outputs": [
        {
          "output_type": "execute_result",
          "data": {
            "text/plain": [
              "array([[10,  0,  1],\n",
              "       [ 0,  8,  1],\n",
              "       [ 2,  0,  5]])"
            ]
          },
          "metadata": {
            "tags": []
          },
          "execution_count": 19
        }
      ]
    },
    {
      "cell_type": "code",
      "metadata": {
        "id": "9Cye9EY7Tjz2"
      },
      "source": [
        "#Saving model \n",
        "\n",
        "import pickle\n",
        "pickle.dump(clf, open('img_classification_model.p', 'wb'))"
      ],
      "execution_count": 20,
      "outputs": []
    },
    {
      "cell_type": "code",
      "metadata": {
        "id": "1YJVGsfiUbn4"
      },
      "source": [
        "new_model = pickle.load(open('img_classification_model.p', 'rb'))"
      ],
      "execution_count": 21,
      "outputs": []
    },
    {
      "cell_type": "code",
      "metadata": {
        "id": "4Glvba_DVEtb",
        "colab": {
          "base_uri": "https://localhost:8080/",
          "height": 322
        },
        "outputId": "9a0eeda3-45b9-4319-dbb1-26a459b26e65"
      },
      "source": [
        "# STEP 5 : Predict for any new Image\n",
        "\n",
        "flatten_Input = []\n",
        "url = input('Enter URL')\n",
        "img = imread(url)\n",
        "resized = resize(img, (150, 150, 3))\n",
        "flatten_Input.append(resized.flatten())\n",
        "flatten_Input = np.array(flatten_Input)\n",
        "print(img.shape)\n",
        "plt.imshow(resized)\n",
        "new_out = new_model.predict(flatten_Input)\n",
        "new_out = categories[new_out[0]]\n",
        "print(f'OUTPUT PREDICTED: {new_out}') "
      ],
      "execution_count": 40,
      "outputs": [
        {
          "output_type": "stream",
          "text": [
            "Enter URLhttps://scx2.b-cdn.net/gfx/news/hires/2019/sunflowers.jpg\n",
            "(1280, 1920, 3)\n",
            "OUTPUT PREDICTED: pretty sunflower\n"
          ],
          "name": "stdout"
        },
        {
          "output_type": "display_data",
          "data": {
            "image/png": "[encoded data removed]",
            "text/plain": [
              "<Figure size 432x288 with 1 Axes>"
            ]
          },
          "metadata": {
            "tags": [],
            "needs_background": "light"
          }
        }
      ]
    },
    {
      "cell_type": "code",
      "metadata": {
        "colab": {
          "base_uri": "https://localhost:8080/"
        },
        "id": "7pHbU0IM898j",
        "outputId": "43c93c59-251e-4f01-916f-8d0d56732a6b"
      },
      "source": [
        "filename = \"data\" \n",
        "folders_or_files_to_save = \"data\" \n",
        "from google.colab import files\n",
        "from google.colab import auth\n",
        "from googleapiclient.http import MediaFileUpload\n",
        "from googleapiclient.discovery import build\n",
        "\n",
        "def save_file_to_drive(name, path):\n",
        "    file_metadata = {\n",
        "    'name': name,\n",
        "    'mimeType': 'application/octet-stream'\n",
        "    }\n",
        "\n",
        "    media = MediaFileUpload(path, \n",
        "                  mimetype='application/octet-stream',\n",
        "                  resumable=True)\n",
        "\n",
        "    created = drive_service.files().create(body=file_metadata, media_body=media, fields='id').execute()\n",
        "\n",
        "    print('File ID: {}'.format(created.get('id')))\n",
        "\n",
        "    return created\n",
        "\n",
        "\n",
        "extension_zip = \".zip\"\n",
        "\n",
        "zip_file = filename + extension_zip\n",
        "\n",
        "# !rm -rf $zip_file\n",
        "!zip -r $zip_file {folders_or_files_to_save} # FOLDERS TO SAVE INTO ZIP FILE\n",
        "\n",
        "auth.authenticate_user()\n",
        "drive_service = build('drive', 'v3')\n",
        "\n",
        "destination_name = zip_file\n",
        "path_to_file = zip_file\n",
        "save_file_to_drive(destination_name, path_to_file)"
      ],
      "execution_count": 44,
      "outputs": [
        {
          "output_type": "stream",
          "text": [
            "  adding: data/ (stored 0%)\n",
            "  adding: data/rugby ball leather/ (stored 0%)\n",
            "  adding: data/rugby ball leather/Image_30.jpg (deflated 1%)\n",
            "  adding: data/rugby ball leather/Image_12.jpg (deflated 1%)\n",
            "  adding: data/rugby ball leather/Image_23.jpg (deflated 12%)\n",
            "  adding: data/rugby ball leather/Image_19.jpg (deflated 4%)\n",
            "  adding: data/rugby ball leather/Image_29.jpg (deflated 0%)\n",
            "  adding: data/rugby ball leather/Image_21.jpg (deflated 2%)\n",
            "  adding: data/rugby ball leather/Image_1.jpg (deflated 1%)\n",
            "  adding: data/rugby ball leather/Image_18.jpg (deflated 4%)\n",
            "  adding: data/rugby ball leather/Image_11.jpg (deflated 12%)\n",
            "  adding: data/rugby ball leather/Image_14.jpg (deflated 1%)\n",
            "  adding: data/rugby ball leather/Image_4.png (deflated 3%)\n",
            "  adding: data/rugby ball leather/Image_7.jpg (deflated 12%)\n",
            "  adding: data/rugby ball leather/Image_26.jpg (deflated 19%)\n",
            "  adding: data/rugby ball leather/Image_6.jpg (deflated 2%)\n",
            "  adding: data/rugby ball leather/Image_25.png (deflated 5%)\n",
            "  adding: data/rugby ball leather/Image_28.jpg (deflated 1%)\n",
            "  adding: data/rugby ball leather/Image_20.png (deflated 3%)\n",
            "  adding: data/rugby ball leather/Image_15.jpg (deflated 0%)\n",
            "  adding: data/rugby ball leather/Image_17.jpg (deflated 1%)\n",
            "  adding: data/rugby ball leather/Image_22.jpg (deflated 2%)\n",
            "  adding: data/rugby ball leather/Image_24.jpg (deflated 3%)\n",
            "  adding: data/rugby ball leather/Image_8.jpg (deflated 3%)\n",
            "  adding: data/rugby ball leather/Image_2.jpg (deflated 4%)\n",
            "  adding: data/rugby ball leather/Image_3.jpg (deflated 4%)\n",
            "  adding: data/rugby ball leather/Image_27.jpg (deflated 12%)\n",
            "  adding: data/rugby ball leather/Image_5.jpg (deflated 2%)\n",
            "  adding: data/rugby ball leather/Image_16.jpg (deflated 3%)\n",
            "  adding: data/rugby ball leather/Image_10.jpg (deflated 19%)\n",
            "  adding: data/rugby ball leather/Image_13.jpg (deflated 0%)\n",
            "  adding: data/rugby ball leather/Image_9.png (deflated 5%)\n",
            "  adding: data/ice cream cone/ (stored 0%)\n",
            "  adding: data/ice cream cone/Image_30.jpg (deflated 0%)\n",
            "  adding: data/ice cream cone/Image_23.jpg (deflated 0%)\n",
            "  adding: data/ice cream cone/Image_19.jpg (deflated 0%)\n",
            "  adding: data/ice cream cone/Image_29.png (deflated 2%)\n",
            "  adding: data/ice cream cone/Image_9.jpg (deflated 1%)\n",
            "  adding: data/ice cream cone/Image_21.jpg (deflated 0%)\n",
            "  adding: data/ice cream cone/Image_1.jpg (deflated 9%)\n",
            "  adding: data/ice cream cone/Image_18.jpg (deflated 9%)\n",
            "  adding: data/ice cream cone/Image_11.jpg (deflated 0%)\n",
            "  adding: data/ice cream cone/Image_14.jpg (deflated 2%)\n",
            "  adding: data/ice cream cone/Image_4.jpg (deflated 0%)\n",
            "  adding: data/ice cream cone/Image_12.png (deflated 2%)\n",
            "  adding: data/ice cream cone/Image_7.jpg (deflated 0%)\n",
            "  adding: data/ice cream cone/Image_20.jpg (deflated 0%)\n",
            "  adding: data/ice cream cone/Image_26.jpg (deflated 1%)\n",
            "  adding: data/ice cream cone/Image_6.jpg (deflated 0%)\n",
            "  adding: data/ice cream cone/Image_28.jpg (deflated 0%)\n",
            "  adding: data/ice cream cone/Image_15.jpg (deflated 0%)\n",
            "  adding: data/ice cream cone/Image_17.jpg (deflated 0%)\n",
            "  adding: data/ice cream cone/Image_22.jpg (deflated 11%)\n",
            "  adding: data/ice cream cone/Image_24.jpg (deflated 0%)\n",
            "  adding: data/ice cream cone/Image_8.jpg (deflated 1%)\n",
            "  adding: data/ice cream cone/Image_25.jpg (deflated 1%)\n",
            "  adding: data/ice cream cone/Image_2.jpg (deflated 0%)\n",
            "  adding: data/ice cream cone/Image_3.jpg (deflated 0%)\n",
            "  adding: data/ice cream cone/Image_27.jpg (deflated 0%)\n",
            "  adding: data/ice cream cone/Image_5.jpg (deflated 11%)\n",
            "  adding: data/ice cream cone/Image_16.jpg (deflated 1%)\n",
            "  adding: data/ice cream cone/Image_10.jpg (deflated 0%)\n",
            "  adding: data/ice cream cone/Image_13.jpg (deflated 0%)\n",
            "  adding: data/pretty sunflower/ (stored 0%)\n",
            "  adding: data/pretty sunflower/Image_30.jpg (deflated 0%)\n",
            "  adding: data/pretty sunflower/Image_12.jpg (deflated 3%)\n",
            "  adding: data/pretty sunflower/Image_23.jpg (deflated 1%)\n",
            "  adding: data/pretty sunflower/Image_19.jpg (deflated 1%)\n",
            "  adding: data/pretty sunflower/Image_9.jpg (deflated 1%)\n",
            "  adding: data/pretty sunflower/Image_29.jpg (deflated 0%)\n",
            "  adding: data/pretty sunflower/Image_21.jpg (deflated 0%)\n",
            "  adding: data/pretty sunflower/Image_1.jpg (deflated 1%)\n",
            "  adding: data/pretty sunflower/Image_18.jpg (deflated 0%)\n",
            "  adding: data/pretty sunflower/Image_11.jpg (deflated 0%)\n",
            "  adding: data/pretty sunflower/Image_14.jpg (deflated 1%)\n",
            "  adding: data/pretty sunflower/Image_4.jpg (deflated 0%)\n",
            "  adding: data/pretty sunflower/Image_7.jpg (deflated 1%)\n",
            "  adding: data/pretty sunflower/Image_20.jpg (deflated 1%)\n",
            "  adding: data/pretty sunflower/Image_26.jpg (deflated 1%)\n",
            "  adding: data/pretty sunflower/Image_6.jpg (deflated 1%)\n",
            "  adding: data/pretty sunflower/Image_28.jpg (deflated 0%)\n",
            "  adding: data/pretty sunflower/Image_15.jpg (deflated 0%)\n",
            "  adding: data/pretty sunflower/Image_17.jpg (deflated 0%)\n",
            "  adding: data/pretty sunflower/Image_27.jpeg (deflated 0%)\n",
            "  adding: data/pretty sunflower/Image_22.jpg (deflated 1%)\n",
            "  adding: data/pretty sunflower/Image_24.jpg (deflated 0%)\n",
            "  adding: data/pretty sunflower/Image_8.jpg (deflated 0%)\n",
            "  adding: data/pretty sunflower/Image_25.jpg (deflated 3%)\n",
            "  adding: data/pretty sunflower/Image_16.jpeg (deflated 0%)\n",
            "  adding: data/pretty sunflower/Image_2.jpg (deflated 0%)\n",
            "  adding: data/pretty sunflower/Image_5.jpg (deflated 0%)\n",
            "  adding: data/pretty sunflower/Image_10.jpg (deflated 1%)\n",
            "  adding: data/pretty sunflower/Image_13.jpg (deflated 1%)\n",
            "  adding: data/pretty sunflower/Image_3.jpeg (deflated 0%)\n",
            "File ID: 1XuE9pmwzVLfuRPYX5Hnz-JLw3vKzDMt3\n"
          ],
          "name": "stdout"
        },
        {
          "output_type": "execute_result",
          "data": {
            "text/plain": [
              "{'id': '1XuE9pmwzVLfuRPYX5Hnz-JLw3vKzDMt3'}"
            ]
          },
          "metadata": {
            "tags": []
          },
          "execution_count": 44
        }
      ]
    }
  ]
}